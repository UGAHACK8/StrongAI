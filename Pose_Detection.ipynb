{
 "cells": [
  {
   "cell_type": "code",
   "execution_count": 1,
   "metadata": {},
   "outputs": [
    {
     "name": "stdout",
     "output_type": "stream",
     "text": [
      "Jupyter environment detected. Enabling Open3D WebVisualizer.\n",
      "[Open3D INFO] WebRTC GUI backend enabled.\n",
      "[Open3D INFO] WebRTCWindowSystem: HTTP handshake server disabled.\n"
     ]
    }
   ],
   "source": [
    "import numpy as np\n",
    "import cv2\n",
    "from numpy.core.fromnumeric import trace\n",
    "import mediapipe_utils as mpu\n",
    "from pathlib import Path\n",
    "from FPS import FPS, now\n",
    "import depthai as dai\n",
    "import marshal\n",
    "import sys\n",
    "from string import Template\n",
    "from math import sin, cos\n",
    "from BlazeposeDepthaiEdge import BlazeposeDepthai\n",
    "from BlazeposeRenderer import BlazeposeRenderer\n"
   ]
  },
  {
   "attachments": {},
   "cell_type": "markdown",
   "metadata": {},
   "source": [
    "## Importan Landmarks\n",
    "- 11 : Left Shoulder\n"
   ]
  },
  {
   "cell_type": "code",
   "execution_count": 2,
   "metadata": {},
   "outputs": [],
   "source": [
    "important_landmarks = ['left_shoulder', 'right_shoulder', 'left_elbow', 'right_elbow', 'left_wrist', 'right_wrist', 'left_hip', 'right_hip', 'left_knee', 'right_knee', 'left_ankle', 'right_ankle', 'left_heel', 'right_heel', 'left_foot_index', 'right_foot_index']\n",
    "important_landmarks = [mpu.KEYPOINT_DICT[l] for l in important_landmarks]"
   ]
  },
  {
   "cell_type": "code",
   "execution_count": 3,
   "metadata": {},
   "outputs": [
    {
     "name": "stdout",
     "output_type": "stream",
     "text": [
      "Pose detection blob file : D:\\PythonComputing\\StrongAI\\models\\pose_detection_sh4.blob\n",
      "Landmarks using blob file : D:\\PythonComputing\\StrongAI\\models\\pose_landmark_full_sh4.blob\n",
      "Internal camera FPS set to: 18\n",
      "Internal camera image size: 1792 x 1008 - pad_h: 392\n",
      "Creating pipeline...\n",
      "Creating Color Camera...\n",
      "Creating MonoCameras, Stereo and SpatialLocationCalculator nodes...\n",
      "RGB calibration lens position: 0\n",
      "Creating Pose Detection pre processing image manip...\n",
      "Creating Pose Detection Neural Network...\n",
      "Creating Pose Detection post processing Neural Network...\n",
      "Creating Landmark pre processing image manip...\n",
      "Creating DiveideBy255 Neural Network...\n",
      "Creating Landmark Neural Network...\n",
      "Pipeline created.\n",
      "Pipeline started - USB speed: HIGH\n"
     ]
    }
   ],
   "source": [
    "tracker = BlazeposeDepthai(\n",
    "                input_src=\"rgb\",\n",
    "                pd_model=None, \n",
    "                pd_score_thresh=0.5,\n",
    "                pp_model=None,\n",
    "                lm_model=None,\n",
    "                lm_score_thresh=0.7,\n",
    "                xyz = True,\n",
    "                crop=False,\n",
    "                smoothing= True,\n",
    "                filter_window_size=5,\n",
    "                filter_velocity_scale=10,\n",
    "                stats=False,               \n",
    "                internal_fps=None,\n",
    "                internal_frame_height=1080,\n",
    "                trace=False,\n",
    "                force_detection=False)   \n",
    "\n",
    "renderer = BlazeposeRenderer(\n",
    "                tracker)\n",
    "#Reset coordernates\n",
    "LEFT_SHOULDER = None\n",
    "RIGHT_SHOULDER = None\n",
    "LEFT_ELBOW = None\n",
    "RIGHT_ELBOW = None\n",
    "LEFT_WRIST = None\n",
    "RIGHT_WRIST = None\n",
    "LEFT_HIP = None\n",
    "RIGHT_HIP = None\n",
    "LEFT_KNEE = None\n",
    "RIGHT_KNEE = None\n",
    "LEFT_ANKLE = None\n",
    "RIGHT_ANKLE = None\n",
    "\n",
    "while True:\n",
    "    try:\n",
    "        # Run blazepose on next frame\n",
    "        frame, body = tracker.next_frame()\n",
    "        if frame is None: break\n",
    "        # Draw 2d skeleton\n",
    "        frame = renderer.draw(frame, body, my_keypoints=important_landmarks)\n",
    "        key = renderer.waitKey(delay=1)\n",
    "        \n",
    "        # # Get 3d coordinates\n",
    "        # if body:\n",
    "        #     LEFT_SHOULDER = body.landmarks[mpu.KEYPOINT_DICT['left_shoulder']] if renderer.is_present(body, mpu.KEYPOINT_DICT['left_shoulder']) else None\n",
    "        #     RIGHT_SHOULDER = body.landmarks[mpu.KEYPOINT_DICT['right_shoulder']] if renderer.is_present(body, mpu.KEYPOINT_DICT['right_shoulder']) else None\n",
    "        #     LEFT_ELBOW = body.landmarks[mpu.KEYPOINT_DICT['left_elbow']] if renderer.is_present(body, mpu.KEYPOINT_DICT['left_elbow']) else None\n",
    "        #     RIGHT_ELBOW = body.landmarks[mpu.KEYPOINT_DICT['right_elbow']] if renderer.is_present(body, mpu.KEYPOINT_DICT['right_elbow']) else None\n",
    "        #     LEFT_WRIST = body.landmarks[mpu.KEYPOINT_DICT['left_wrist']] if renderer.is_present(body, mpu.KEYPOINT_DICT['left_wrist']) else None\n",
    "        #     RIGHT_WRIST = body.landmarks[mpu.KEYPOINT_DICT['right_wrist']] if renderer.is_present(body, mpu.KEYPOINT_DICT['right_wrist']) else None\n",
    "        #     LEFT_HIP = body.landmarks[mpu.KEYPOINT_DICT['left_hip']] if renderer.is_present(body, mpu.KEYPOINT_DICT['left_hip']) else None\n",
    "        #     RIGHT_HIP = body.landmarks[mpu.KEYPOINT_DICT['right_hip']] if renderer.is_present(body, mpu.KEYPOINT_DICT['right_hip']) else None\n",
    "        #     LEFT_KNEE = body.landmarks[mpu.KEYPOINT_DICT['left_knee']] if renderer.is_present(body, mpu.KEYPOINT_DICT['left_knee']) else None\n",
    "        #     RIGHT_KNEE = body.landmarks[mpu.KEYPOINT_DICT['right_knee']] if renderer.is_present(body, mpu.KEYPOINT_DICT['right_knee']) else None\n",
    "        #     LEFT_ANKLE = body.landmarks[mpu.KEYPOINT_DICT['left_ankle']] if renderer.is_present(body, mpu.KEYPOINT_DICT['left_ankle']) else None\n",
    "        #     RIGHT_ANKLE = body.landmarks[mpu.KEYPOINT_DICT['right_ankle']] if renderer.is_present(body, mpu.KEYPOINT_DICT['right_ankle']) else None\n",
    "        #     LEFT_HEEL = body.landmarks[mpu.KEYPOINT_DICT['left_heel']] if renderer.is_present(body, mpu.KEYPOINT_DICT['left_heel']) else None\n",
    "        #     RIGHT_HEEL = body.landmarks[mpu.KEYPOINT_DICT['right_heel']] if renderer.is_present(body, mpu.KEYPOINT_DICT['right_heel']) else None\n",
    "        #     LEFT_FOOT_INDEX = body.landmarks[mpu.KEYPOINT_DICT['left_foot_index']] if renderer.is_present(body, mpu.KEYPOINT_DICT['left_foot_index']) else None\n",
    "        #     RIGHT_FOOT_INDEX = body.landmarks[mpu.KEYPOINT_DICT['right_foot_index']] if renderer.is_present(body, mpu.KEYPOINT_DICT['right_foot_index']) else None\n",
    "        \n",
    "        \n",
    "            \n",
    "        if key == 27 or key == ord('q'):\n",
    "            break\n",
    "    except Exception as e:\n",
    "        print(e)\n",
    "        break\n",
    "renderer.exit()\n",
    "tracker.exit()\n",
    "cv2.destroyAllWindows()"
   ]
  },
  {
   "cell_type": "code",
   "execution_count": null,
   "metadata": {},
   "outputs": [],
   "source": [
    "\n"
   ]
  }
 ],
 "metadata": {
  "kernelspec": {
   "display_name": "base",
   "language": "python",
   "name": "python3"
  },
  "language_info": {
   "codemirror_mode": {
    "name": "ipython",
    "version": 3
   },
   "file_extension": ".py",
   "mimetype": "text/x-python",
   "name": "python",
   "nbconvert_exporter": "python",
   "pygments_lexer": "ipython3",
   "version": "3.9.15"
  },
  "orig_nbformat": 4,
  "vscode": {
   "interpreter": {
    "hash": "a0002ca97fa5ee54dc2e4008fbe9eabec60bb4400642f4fca2bafe1dfe14f90e"
   }
  }
 },
 "nbformat": 4,
 "nbformat_minor": 2
}
